{
 "cells": [
  {
   "cell_type": "code",
   "execution_count": 40,
   "metadata": {},
   "outputs": [],
   "source": [
    "import geopandas as gpd\n",
    "import pandas as pd\n",
    "import time\n",
    "import fiona"
   ]
  },
  {
   "cell_type": "code",
   "execution_count": 58,
   "metadata": {},
   "outputs": [],
   "source": [
    "# show all output from cells\n",
    "from IPython.core.interactiveshell import InteractiveShell\n",
    "InteractiveShell.ast_node_interactivity = \"all\""
   ]
  },
  {
   "cell_type": "code",
   "execution_count": 3,
   "metadata": {},
   "outputs": [],
   "source": [
    "projects = pd.read_csv('projectsW.csv')"
   ]
  },
  {
   "cell_type": "code",
   "execution_count": 50,
   "metadata": {},
   "outputs": [
    {
     "name": "stdout",
     "output_type": "stream",
     "text": [
      "CPU times: user 48.6 s, sys: 214 ms, total: 48.8 s\n",
      "Wall time: 48.8 s\n"
     ]
    }
   ],
   "source": [
    "%%time\n",
    "projects['latReading'] = ''\n",
    "projects['lonReading'] = ''\n",
    "gpd.io.file.fiona.drvsupport.supported_drivers['KML'] = 'rw'\n",
    "gpd.io.file.fiona.drvsupport.supported_drivers['LIBKML'] = 'rw'\n",
    "for project in projects.projectID:\n",
    "    if projects.loc[projects.projectID == project, 'urlFileNames'].str.contains('.kml').any():\n",
    "        try:\n",
    "            # solution from https://egmara-santos.medium.com/using-python-to-check-geographic-coordinates-on-a-kml-map-baab4510a958\n",
    "            gdf = gpd.read_file('./locationFiles/{}.kml'.format(project), driver='KML')\n",
    "            centroid = gdf.dissolve().to_crs('+proj=cea').centroid.to_crs(gdf.crs)\n",
    "            projects.loc[projects.projectID == project, 'latReading'] = centroid.y[0]\n",
    "            projects.loc[projects.projectID == project, 'lonReading'] = centroid.x[0]\n",
    "        except:\n",
    "            try:\n",
    "                gdf_list = []\n",
    "                gdf = './locationFiles/{}.kml'.format(project)\n",
    "                for layer in fiona.listlayers(gdf):    \n",
    "                    gdf = gpd.read_file(gdf, driver='LIBKML', layer=layer)\n",
    "                    gdf_list.append(gdf)\n",
    "                gdf = gpd.GeoDataFrame(pd.concat(gdf_list, ignore_index=True))\n",
    "                centroid = gdf.to_crs('+proj=cea').centroid.to_crs(gdf.crs)\n",
    "                projects.loc[projects.projectID == project, 'latReading'] = centroid.y[0]\n",
    "                projects.loc[projects.projectID == project, 'lonReading'] = centroid.x[0]\n",
    "            except:\n",
    "                pass\n",
    "    elif projects.loc[projects.projectID == project, 'urlFileNames'].str.contains('.zip').any():\n",
    "        try:\n",
    "            # MISSING fix for zip files\n",
    "            gdf = gpd.read_file('./locationFiles/{0}/{0}.shp'.format(project))\n",
    "            centroid = gdf.to_crs('+proj=cea').centroid.to_crs(gdf.crs)\n",
    "            projects.loc[projects.projectID == project, 'latReading'] = centroid.y[0]\n",
    "            projects.loc[projects.projectID == project, 'lonReading'] = centroid.x[0]\n",
    "        except:\n",
    "            pass\n",
    "    else:\n",
    "        pass"
   ]
  },
  {
   "cell_type": "code",
   "execution_count": 51,
   "metadata": {},
   "outputs": [],
   "source": [
    "projects.to_csv('projectsW.csv', index=False)"
   ]
  }
 ],
 "metadata": {
  "kernelspec": {
   "display_name": "analysis",
   "language": "python",
   "name": "python3"
  },
  "language_info": {
   "codemirror_mode": {
    "name": "ipython",
    "version": 3
   },
   "file_extension": ".py",
   "mimetype": "text/x-python",
   "name": "python",
   "nbconvert_exporter": "python",
   "pygments_lexer": "ipython3",
   "version": "3.11.4"
  },
  "orig_nbformat": 4
 },
 "nbformat": 4,
 "nbformat_minor": 2
}
